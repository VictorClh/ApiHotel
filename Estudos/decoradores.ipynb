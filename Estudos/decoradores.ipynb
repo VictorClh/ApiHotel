{
 "cells": [
  {
   "cell_type": "code",
   "execution_count": 1,
   "metadata": {},
   "outputs": [],
   "source": [
    "import functools"
   ]
  },
  {
   "cell_type": "code",
   "execution_count": 6,
   "metadata": {},
   "outputs": [],
   "source": [
    "def meu_decorador(funcao):\n",
    "    @functools.wraps(funcao)\n",
    "    def func_que_roda_funcao():\n",
    "        print(\"********Embrulhando função no decorador********\")\n",
    "        funcao()\n",
    "        print(\"********Fechando embrulho***********\")\n",
    "    return func_que_roda_funcao"
   ]
  },
  {
   "cell_type": "code",
   "execution_count": 9,
   "metadata": {},
   "outputs": [],
   "source": [
    "@meu_decorador\n",
    "def minha_funcao():\n",
    "    print(\"Eu sou uma função!\")\n",
    "    print(((40 / 4) * 5) - 10)"
   ]
  },
  {
   "cell_type": "code",
   "execution_count": 10,
   "metadata": {},
   "outputs": [
    {
     "name": "stdout",
     "output_type": "stream",
     "text": [
      "********Embrulhando função no decorador********\n",
      "Eu sou uma função!\n",
      "40.0\n",
      "********Fechando embrulho***********\n"
     ]
    }
   ],
   "source": [
    "minha_funcao()"
   ]
  }
 ],
 "metadata": {
  "kernelspec": {
   "display_name": "Python 3",
   "language": "python",
   "name": "python3"
  },
  "language_info": {
   "codemirror_mode": {
    "name": "ipython",
    "version": 3
   },
   "file_extension": ".py",
   "mimetype": "text/x-python",
   "name": "python",
   "nbconvert_exporter": "python",
   "pygments_lexer": "ipython3",
   "version": "3.11.0"
  }
 },
 "nbformat": 4,
 "nbformat_minor": 2
}
